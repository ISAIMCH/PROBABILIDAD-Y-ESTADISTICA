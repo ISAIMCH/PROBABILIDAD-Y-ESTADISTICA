{
 "cells": [
  {
   "cell_type": "markdown",
   "id": "230c07e8",
   "metadata": {
    "papermill": {
     "duration": 0.003978,
     "end_time": "2024-02-14T03:37:30.772620",
     "exception": false,
     "start_time": "2024-02-14T03:37:30.768642",
     "status": "completed"
    },
    "tags": []
   },
   "source": [
    "# Tabla de frecuencias \n",
    "## Ejercicio 8 "
   ]
  },
  {
   "cell_type": "markdown",
   "id": "92bfb8fd",
   "metadata": {
    "_cell_guid": "b1076dfc-b9ad-4769-8c92-a6c4dae69d19",
    "_uuid": "8f2839f25d086af736a60e9eeb907d3b93b6e0e5",
    "papermill": {
     "duration": 0.002526,
     "end_time": "2024-02-14T03:37:30.778627",
     "exception": false,
     "start_time": "2024-02-14T03:37:30.776101",
     "status": "completed"
    },
    "tags": []
   },
   "source": [
    "<table>\n",
    "  <thead>\n",
    "    <tr>\n",
    "      <th>No.</th>\n",
    "      <th>Clases</th>\n",
    "      <th>Frecuencia</th>\n",
    "      <th>Frecuencia Relativa (%)</th>\n",
    "      <th>Frecuencia Acumulada</th>\n",
    "    </tr>\n",
    "  </thead>\n",
    "  <tbody>\n",
    "    <tr>\n",
    "      <td>1</td>\n",
    "      <td>0.9 - 2.16</td>\n",
    "      <td>8</td>\n",
    "      <td>26.67%</td>\n",
    "      <td>8</td>\n",
    "    </tr>\n",
    "    <tr>\n",
    "      <td>2</td>\n",
    "      <td>2.17 - 3.43</td>\n",
    "      <td>10</td>\n",
    "      <td>33.33%</td>\n",
    "      <td>18</td>\n",
    "    </tr>\n",
    "    <tr>\n",
    "      <td>3</td>\n",
    "      <td>3.44 - 4.7</td>\n",
    "      <td>6</td>\n",
    "      <td>20%</td>\n",
    "      <td>24</td>\n",
    "    </tr>\n",
    "    <tr>\n",
    "      <td>4</td>\n",
    "      <td>4.71 - 5.97</td>\n",
    "      <td>4</td>\n",
    "      <td>13.33%</td>\n",
    "      <td>28</td>\n",
    "    </tr>\n",
    "    <tr>\n",
    "      <td>5</td>\n",
    "      <td>5.98 - 7.24</td>\n",
    "      <td>2</td>\n",
    "      <td>6.67%</td>\n",
    "      <td>30</td>\n",
    "    </tr>\n",
    "  </tbody>\n",
    "</table>"
   ]
  },
  {
   "cell_type": "markdown",
   "id": "b98e55d7",
   "metadata": {
    "papermill": {
     "duration": 0.002535,
     "end_time": "2024-02-14T03:37:30.783913",
     "exception": false,
     "start_time": "2024-02-14T03:37:30.781378",
     "status": "completed"
    },
    "tags": []
   },
   "source": []
  }
 ],
 "metadata": {
  "kaggle": {
   "accelerator": "none",
   "dataSources": [],
   "dockerImageVersionId": 30646,
   "isGpuEnabled": false,
   "isInternetEnabled": false,
   "language": "python",
   "sourceType": "notebook"
  },
  "kernelspec": {
   "display_name": "Python 3",
   "language": "python",
   "name": "python3"
  },
  "language_info": {
   "codemirror_mode": {
    "name": "ipython",
    "version": 3
   },
   "file_extension": ".py",
   "mimetype": "text/x-python",
   "name": "python",
   "nbconvert_exporter": "python",
   "pygments_lexer": "ipython3",
   "version": "3.10.13"
  },
  "papermill": {
   "default_parameters": {},
   "duration": 4.003684,
   "end_time": "2024-02-14T03:37:31.308707",
   "environment_variables": {},
   "exception": null,
   "input_path": "__notebook__.ipynb",
   "output_path": "__notebook__.ipynb",
   "parameters": {},
   "start_time": "2024-02-14T03:37:27.305023",
   "version": "2.5.0"
  }
 },
 "nbformat": 4,
 "nbformat_minor": 5
}
